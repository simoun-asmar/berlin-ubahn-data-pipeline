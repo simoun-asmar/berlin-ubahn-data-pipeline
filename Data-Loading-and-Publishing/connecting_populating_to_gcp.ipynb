{
 "cells": [
  {
   "cell_type": "markdown",
   "id": "06790403",
   "metadata": {},
   "source": [
    "Installing needed libraries\n"
   ]
  },
  {
   "cell_type": "code",
   "execution_count": 12,
   "id": "f51ed9ee",
   "metadata": {},
   "outputs": [
    {
     "name": "stdout",
     "output_type": "stream",
     "text": [
      "Requirement already satisfied: google-cloud-bigquery in /opt/anaconda3/lib/python3.11/site-packages (3.35.1)\n",
      "Requirement already satisfied: google-api-core<3.0.0,>=2.11.1 in /opt/anaconda3/lib/python3.11/site-packages (from google-api-core[grpc]<3.0.0,>=2.11.1->google-cloud-bigquery) (2.25.1)\n",
      "Requirement already satisfied: google-auth<3.0.0,>=2.14.1 in /opt/anaconda3/lib/python3.11/site-packages (from google-cloud-bigquery) (2.40.3)\n",
      "Requirement already satisfied: google-cloud-core<3.0.0,>=2.4.1 in /opt/anaconda3/lib/python3.11/site-packages (from google-cloud-bigquery) (2.4.3)\n",
      "Requirement already satisfied: google-resumable-media<3.0.0,>=2.0.0 in /opt/anaconda3/lib/python3.11/site-packages (from google-cloud-bigquery) (2.7.2)\n",
      "Requirement already satisfied: packaging>=24.2.0 in /opt/anaconda3/lib/python3.11/site-packages (from google-cloud-bigquery) (24.2)\n",
      "Requirement already satisfied: python-dateutil<3.0.0,>=2.8.2 in /opt/anaconda3/lib/python3.11/site-packages (from google-cloud-bigquery) (2.9.0.post0)\n",
      "Requirement already satisfied: requests<3.0.0,>=2.21.0 in /opt/anaconda3/lib/python3.11/site-packages (from google-cloud-bigquery) (2.32.3)\n",
      "Requirement already satisfied: googleapis-common-protos<2.0.0,>=1.56.2 in /opt/anaconda3/lib/python3.11/site-packages (from google-api-core<3.0.0,>=2.11.1->google-api-core[grpc]<3.0.0,>=2.11.1->google-cloud-bigquery) (1.70.0)\n",
      "Requirement already satisfied: protobuf!=3.20.0,!=3.20.1,!=4.21.0,!=4.21.1,!=4.21.2,!=4.21.3,!=4.21.4,!=4.21.5,<7.0.0,>=3.19.5 in /opt/anaconda3/lib/python3.11/site-packages (from google-api-core<3.0.0,>=2.11.1->google-api-core[grpc]<3.0.0,>=2.11.1->google-cloud-bigquery) (6.31.1)\n",
      "Requirement already satisfied: proto-plus<2.0.0,>=1.22.3 in /opt/anaconda3/lib/python3.11/site-packages (from google-api-core<3.0.0,>=2.11.1->google-api-core[grpc]<3.0.0,>=2.11.1->google-cloud-bigquery) (1.26.1)\n",
      "Requirement already satisfied: grpcio<2.0.0,>=1.33.2 in /opt/anaconda3/lib/python3.11/site-packages (from google-api-core[grpc]<3.0.0,>=2.11.1->google-cloud-bigquery) (1.74.0)\n",
      "Requirement already satisfied: grpcio-status<2.0.0,>=1.33.2 in /opt/anaconda3/lib/python3.11/site-packages (from google-api-core[grpc]<3.0.0,>=2.11.1->google-cloud-bigquery) (1.74.0)\n",
      "Requirement already satisfied: cachetools<6.0,>=2.0.0 in /opt/anaconda3/lib/python3.11/site-packages (from google-auth<3.0.0,>=2.14.1->google-cloud-bigquery) (4.2.2)\n",
      "Requirement already satisfied: pyasn1-modules>=0.2.1 in /opt/anaconda3/lib/python3.11/site-packages (from google-auth<3.0.0,>=2.14.1->google-cloud-bigquery) (0.2.8)\n",
      "Requirement already satisfied: rsa<5,>=3.1.4 in /opt/anaconda3/lib/python3.11/site-packages (from google-auth<3.0.0,>=2.14.1->google-cloud-bigquery) (4.9.1)\n",
      "Requirement already satisfied: google-crc32c<2.0dev,>=1.0 in /opt/anaconda3/lib/python3.11/site-packages (from google-resumable-media<3.0.0,>=2.0.0->google-cloud-bigquery) (1.7.1)\n",
      "Requirement already satisfied: six>=1.5 in /opt/anaconda3/lib/python3.11/site-packages (from python-dateutil<3.0.0,>=2.8.2->google-cloud-bigquery) (1.16.0)\n",
      "Requirement already satisfied: charset-normalizer<4,>=2 in /opt/anaconda3/lib/python3.11/site-packages (from requests<3.0.0,>=2.21.0->google-cloud-bigquery) (3.3.2)\n",
      "Requirement already satisfied: idna<4,>=2.5 in /opt/anaconda3/lib/python3.11/site-packages (from requests<3.0.0,>=2.21.0->google-cloud-bigquery) (3.7)\n",
      "Requirement already satisfied: urllib3<3,>=1.21.1 in /opt/anaconda3/lib/python3.11/site-packages (from requests<3.0.0,>=2.21.0->google-cloud-bigquery) (2.3.0)\n",
      "Requirement already satisfied: certifi>=2017.4.17 in /opt/anaconda3/lib/python3.11/site-packages (from requests<3.0.0,>=2.21.0->google-cloud-bigquery) (2025.4.26)\n",
      "Requirement already satisfied: pyasn1<0.5.0,>=0.4.6 in /opt/anaconda3/lib/python3.11/site-packages (from pyasn1-modules>=0.2.1->google-auth<3.0.0,>=2.14.1->google-cloud-bigquery) (0.4.8)\n",
      "Note: you may need to restart the kernel to use updated packages.\n"
     ]
    }
   ],
   "source": [
    "pip install google-cloud-bigquery"
   ]
  },
  {
   "cell_type": "code",
   "execution_count": 13,
   "id": "496f5e6f",
   "metadata": {},
   "outputs": [
    {
     "name": "stdout",
     "output_type": "stream",
     "text": [
      "Requirement already satisfied: pandas-gbq in /opt/anaconda3/lib/python3.11/site-packages (0.29.2)\n",
      "Requirement already satisfied: setuptools in /opt/anaconda3/lib/python3.11/site-packages (from pandas-gbq) (68.2.2)\n",
      "Requirement already satisfied: db-dtypes<2.0.0,>=1.0.4 in /opt/anaconda3/lib/python3.11/site-packages (from pandas-gbq) (1.4.3)\n",
      "Requirement already satisfied: numpy>=1.18.1 in /opt/anaconda3/lib/python3.11/site-packages (from pandas-gbq) (1.26.4)\n",
      "Requirement already satisfied: pandas>=1.1.4 in /opt/anaconda3/lib/python3.11/site-packages (from pandas-gbq) (2.1.4)\n",
      "Requirement already satisfied: pyarrow>=4.0.0 in /opt/anaconda3/lib/python3.11/site-packages (from pandas-gbq) (14.0.2)\n",
      "Requirement already satisfied: pydata-google-auth>=1.5.0 in /opt/anaconda3/lib/python3.11/site-packages (from pandas-gbq) (1.9.1)\n",
      "Requirement already satisfied: google-api-core<3.0.0,>=2.10.2 in /opt/anaconda3/lib/python3.11/site-packages (from pandas-gbq) (2.25.1)\n",
      "Requirement already satisfied: google-auth>=2.13.0 in /opt/anaconda3/lib/python3.11/site-packages (from pandas-gbq) (2.40.3)\n",
      "Requirement already satisfied: google-auth-oauthlib>=0.7.0 in /opt/anaconda3/lib/python3.11/site-packages (from pandas-gbq) (1.2.2)\n",
      "Requirement already satisfied: google-cloud-bigquery<4.0.0,>=3.4.2 in /opt/anaconda3/lib/python3.11/site-packages (from pandas-gbq) (3.35.1)\n",
      "Requirement already satisfied: packaging>=22.0.0 in /opt/anaconda3/lib/python3.11/site-packages (from pandas-gbq) (24.2)\n",
      "Requirement already satisfied: googleapis-common-protos<2.0.0,>=1.56.2 in /opt/anaconda3/lib/python3.11/site-packages (from google-api-core<3.0.0,>=2.10.2->pandas-gbq) (1.70.0)\n",
      "Requirement already satisfied: protobuf!=3.20.0,!=3.20.1,!=4.21.0,!=4.21.1,!=4.21.2,!=4.21.3,!=4.21.4,!=4.21.5,<7.0.0,>=3.19.5 in /opt/anaconda3/lib/python3.11/site-packages (from google-api-core<3.0.0,>=2.10.2->pandas-gbq) (6.31.1)\n",
      "Requirement already satisfied: proto-plus<2.0.0,>=1.22.3 in /opt/anaconda3/lib/python3.11/site-packages (from google-api-core<3.0.0,>=2.10.2->pandas-gbq) (1.26.1)\n",
      "Requirement already satisfied: requests<3.0.0,>=2.18.0 in /opt/anaconda3/lib/python3.11/site-packages (from google-api-core<3.0.0,>=2.10.2->pandas-gbq) (2.32.3)\n",
      "Requirement already satisfied: cachetools<6.0,>=2.0.0 in /opt/anaconda3/lib/python3.11/site-packages (from google-auth>=2.13.0->pandas-gbq) (4.2.2)\n",
      "Requirement already satisfied: pyasn1-modules>=0.2.1 in /opt/anaconda3/lib/python3.11/site-packages (from google-auth>=2.13.0->pandas-gbq) (0.2.8)\n",
      "Requirement already satisfied: rsa<5,>=3.1.4 in /opt/anaconda3/lib/python3.11/site-packages (from google-auth>=2.13.0->pandas-gbq) (4.9.1)\n",
      "Requirement already satisfied: requests-oauthlib>=0.7.0 in /opt/anaconda3/lib/python3.11/site-packages (from google-auth-oauthlib>=0.7.0->pandas-gbq) (2.0.0)\n",
      "Requirement already satisfied: google-cloud-core<3.0.0,>=2.4.1 in /opt/anaconda3/lib/python3.11/site-packages (from google-cloud-bigquery<4.0.0,>=3.4.2->pandas-gbq) (2.4.3)\n",
      "Requirement already satisfied: google-resumable-media<3.0.0,>=2.0.0 in /opt/anaconda3/lib/python3.11/site-packages (from google-cloud-bigquery<4.0.0,>=3.4.2->pandas-gbq) (2.7.2)\n",
      "Requirement already satisfied: python-dateutil<3.0.0,>=2.8.2 in /opt/anaconda3/lib/python3.11/site-packages (from google-cloud-bigquery<4.0.0,>=3.4.2->pandas-gbq) (2.9.0.post0)\n",
      "Requirement already satisfied: pytz>=2020.1 in /opt/anaconda3/lib/python3.11/site-packages (from pandas>=1.1.4->pandas-gbq) (2023.3.post1)\n",
      "Requirement already satisfied: tzdata>=2022.1 in /opt/anaconda3/lib/python3.11/site-packages (from pandas>=1.1.4->pandas-gbq) (2023.3)\n",
      "Requirement already satisfied: grpcio<2.0.0,>=1.33.2 in /opt/anaconda3/lib/python3.11/site-packages (from google-api-core[grpc]<3.0.0,>=2.11.1->google-cloud-bigquery<4.0.0,>=3.4.2->pandas-gbq) (1.74.0)\n",
      "Requirement already satisfied: grpcio-status<2.0.0,>=1.33.2 in /opt/anaconda3/lib/python3.11/site-packages (from google-api-core[grpc]<3.0.0,>=2.11.1->google-cloud-bigquery<4.0.0,>=3.4.2->pandas-gbq) (1.74.0)\n",
      "Requirement already satisfied: google-crc32c<2.0dev,>=1.0 in /opt/anaconda3/lib/python3.11/site-packages (from google-resumable-media<3.0.0,>=2.0.0->google-cloud-bigquery<4.0.0,>=3.4.2->pandas-gbq) (1.7.1)\n",
      "Requirement already satisfied: pyasn1<0.5.0,>=0.4.6 in /opt/anaconda3/lib/python3.11/site-packages (from pyasn1-modules>=0.2.1->google-auth>=2.13.0->pandas-gbq) (0.4.8)\n",
      "Requirement already satisfied: six>=1.5 in /opt/anaconda3/lib/python3.11/site-packages (from python-dateutil<3.0.0,>=2.8.2->google-cloud-bigquery<4.0.0,>=3.4.2->pandas-gbq) (1.16.0)\n",
      "Requirement already satisfied: charset-normalizer<4,>=2 in /opt/anaconda3/lib/python3.11/site-packages (from requests<3.0.0,>=2.18.0->google-api-core<3.0.0,>=2.10.2->pandas-gbq) (3.3.2)\n",
      "Requirement already satisfied: idna<4,>=2.5 in /opt/anaconda3/lib/python3.11/site-packages (from requests<3.0.0,>=2.18.0->google-api-core<3.0.0,>=2.10.2->pandas-gbq) (3.7)\n",
      "Requirement already satisfied: urllib3<3,>=1.21.1 in /opt/anaconda3/lib/python3.11/site-packages (from requests<3.0.0,>=2.18.0->google-api-core<3.0.0,>=2.10.2->pandas-gbq) (2.3.0)\n",
      "Requirement already satisfied: certifi>=2017.4.17 in /opt/anaconda3/lib/python3.11/site-packages (from requests<3.0.0,>=2.18.0->google-api-core<3.0.0,>=2.10.2->pandas-gbq) (2025.4.26)\n",
      "Requirement already satisfied: oauthlib>=3.0.0 in /opt/anaconda3/lib/python3.11/site-packages (from requests-oauthlib>=0.7.0->google-auth-oauthlib>=0.7.0->pandas-gbq) (3.3.1)\n",
      "Note: you may need to restart the kernel to use updated packages.\n"
     ]
    }
   ],
   "source": [
    "pip install pandas-gbq\n"
   ]
  },
  {
   "cell_type": "code",
   "execution_count": 14,
   "id": "a75f63d2",
   "metadata": {},
   "outputs": [
    {
     "name": "stdout",
     "output_type": "stream",
     "text": [
      "Requirement already satisfied: db-dtypes in /opt/anaconda3/lib/python3.11/site-packages (1.4.3)\n",
      "Requirement already satisfied: numpy>=1.24.0 in /opt/anaconda3/lib/python3.11/site-packages (from db-dtypes) (1.26.4)\n",
      "Requirement already satisfied: packaging>=24.2.0 in /opt/anaconda3/lib/python3.11/site-packages (from db-dtypes) (24.2)\n",
      "Requirement already satisfied: pandas>=1.5.3 in /opt/anaconda3/lib/python3.11/site-packages (from db-dtypes) (2.1.4)\n",
      "Requirement already satisfied: pyarrow>=13.0.0 in /opt/anaconda3/lib/python3.11/site-packages (from db-dtypes) (14.0.2)\n",
      "Requirement already satisfied: python-dateutil>=2.8.2 in /opt/anaconda3/lib/python3.11/site-packages (from pandas>=1.5.3->db-dtypes) (2.9.0.post0)\n",
      "Requirement already satisfied: pytz>=2020.1 in /opt/anaconda3/lib/python3.11/site-packages (from pandas>=1.5.3->db-dtypes) (2023.3.post1)\n",
      "Requirement already satisfied: tzdata>=2022.1 in /opt/anaconda3/lib/python3.11/site-packages (from pandas>=1.5.3->db-dtypes) (2023.3)\n",
      "Requirement already satisfied: six>=1.5 in /opt/anaconda3/lib/python3.11/site-packages (from python-dateutil>=2.8.2->pandas>=1.5.3->db-dtypes) (1.16.0)\n",
      "Note: you may need to restart the kernel to use updated packages.\n"
     ]
    }
   ],
   "source": [
    "pip install db-dtypes\n"
   ]
  },
  {
   "cell_type": "code",
   "execution_count": 15,
   "id": "a749325a",
   "metadata": {},
   "outputs": [],
   "source": [
    "from google.cloud import bigquery\n",
    "\n",
    "# Path to your JSON key file\n",
    "key_path = \"/Users/itsme/Desktop/WEBEET/Week2/bq_connector_key.json\" \n",
    "client = bigquery.Client.from_service_account_json(key_path)\n",
    "\n"
   ]
  },
  {
   "cell_type": "markdown",
   "id": "1abfe4a9",
   "metadata": {},
   "source": [
    "Reading table that is already there"
   ]
  },
  {
   "cell_type": "code",
   "execution_count": 16,
   "id": "32426d38",
   "metadata": {},
   "outputs": [
    {
     "name": "stdout",
     "output_type": "stream",
     "text": [
      "   id     name  score\n",
      "0   1    Alice     85\n",
      "1   2      Bob     90\n",
      "2   3  Charlie     95\n",
      "3   1    Alice     85\n",
      "4   2      Bob     90\n"
     ]
    }
   ],
   "source": [
    "import pandas as pd \n",
    "\n",
    "query = \"\"\"\n",
    "    SELECT *\n",
    "    FROM `cohesive-idiom-441010-a8.test.my_new_table`\n",
    "    LIMIT 5\n",
    "\"\"\"\n",
    "\n",
    "# Read data using pandas\n",
    "df = pd.read_gbq(\n",
    "    query,\n",
    "    project_id=\"cohesive-idiom-441010-a8\",\n",
    "    credentials=client._credentials  # reuse credentials from your bigquery.Client\n",
    ")\n",
    "\n",
    "print(df)"
   ]
  },
  {
   "cell_type": "markdown",
   "id": "fde105a4",
   "metadata": {},
   "source": [
    "How to create new table in BigQuery"
   ]
  },
  {
   "cell_type": "code",
   "execution_count": 17,
   "id": "1721e626",
   "metadata": {},
   "outputs": [],
   "source": [
    "#Load the cleaned U-Bahn dataset and explicitly set 'postcode' as string (better for preserving leading zeros and formatting)\n",
    "df = pd.read_csv(\"ubahn.csv\", dtype={\"postcode\": str})\n",
    "\n",
    "# Rename columns: 'stadtteil' to 'neighborhood', 'neighborhood' to 'district' for consistency and clarity\n",
    "df.rename(columns={\"stadtteil\": \"neighborhood\", \"neighborhood\": \"district\"}, inplace=True)"
   ]
  },
  {
   "cell_type": "code",
   "execution_count": 18,
   "id": "f2074e18",
   "metadata": {},
   "outputs": [],
   "source": [
    "# Map districts to their IDs\n",
    "district_id_map = {\n",
    "    \"Mitte\": \"01\",\n",
    "    \"Friedrichshain-Kreuzberg\": \"02\",\n",
    "    \"Pankow\": \"03\",\n",
    "    \"Charlottenburg-Wilmersdorf\": \"04\",\n",
    "    \"Spandau\": \"05\",\n",
    "    \"Steglitz-Zehlendorf\": \"06\",\n",
    "    \"Tempelhof-Schöneberg\": \"07\",\n",
    "    \"Neukölln\": \"08\",\n",
    "    \"Treptow-Köpenick\": \"09\",\n",
    "    \"Marzahn-Hellersdorf\": \"10\",\n",
    "    \"Lichtenberg\": \"11\",\n",
    "    \"Reinickendorf\": \"12\"\n",
    "}\n",
    "df[\"district_id\"] = df[\"district\"].map(district_id_map)"
   ]
  },
  {
   "cell_type": "code",
   "execution_count": 19,
   "id": "72c3b8de",
   "metadata": {},
   "outputs": [],
   "source": [
    "schema = [\n",
    "    bigquery.SchemaField(\"station\", \"STRING\", mode=\"REQUIRED\"),\n",
    "    bigquery.SchemaField(\"line\", \"STRING\", mode=\"REQUIRED\"),\n",
    "    bigquery.SchemaField(\"latitude\", \"FLOAT64\", mode=\"REQUIRED\"),\n",
    "    bigquery.SchemaField(\"longitude\", \"FLOAT64\", mode=\"REQUIRED\"),\n",
    "    bigquery.SchemaField(\"postcode\", \"STRING\", mode=\"NULLABLE\"),\n",
    "    bigquery.SchemaField(\"neighborhood\", \"STRING\", mode=\"NULLABLE\"),\n",
    "    bigquery.SchemaField(\"district\", \"STRING\", mode=\"REQUIRED\"),\n",
    "    bigquery.SchemaField(\"district_id\", \"STRING\", mode=\"REQUIRED\"),\n",
    "]\n"
   ]
  },
  {
   "cell_type": "code",
   "execution_count": null,
   "id": "958a136f",
   "metadata": {},
   "outputs": [],
   "source": [
    "# Define the table with schema\n",
    "table_id = \"cohesive-idiom-441010-a8.berlin_data.ubahn\"\n",
    "table = bigquery.Table(table_id, schema=schema)\n",
    "\n",
    "# Create the table first with the schema (won't raise error if it exists)\n",
    "client.create_table(table, exists_ok=True)\n",
    "\n",
    "# Then upload the DataFrame to the table\n",
    "job = client.load_table_from_dataframe(df, table_id)\n",
    "job.result()\n"
   ]
  }
 ],
 "metadata": {
  "kernelspec": {
   "display_name": "base",
   "language": "python",
   "name": "python3"
  },
  "language_info": {
   "codemirror_mode": {
    "name": "ipython",
    "version": 3
   },
   "file_extension": ".py",
   "mimetype": "text/x-python",
   "name": "python",
   "nbconvert_exporter": "python",
   "pygments_lexer": "ipython3",
   "version": "3.11.7"
  }
 },
 "nbformat": 4,
 "nbformat_minor": 5
}
