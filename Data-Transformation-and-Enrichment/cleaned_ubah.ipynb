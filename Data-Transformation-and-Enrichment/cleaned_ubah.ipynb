{
 "cells": [
  {
   "cell_type": "code",
   "execution_count": 9,
   "id": "1260147c",
   "metadata": {},
   "outputs": [],
   "source": [
    "import pandas as pd\n",
    "\n",
    "# Load the CSV containing U-Bahn station data with neighborhood and district info\n",
    "df = pd.read_csv(\"ubahn_with_neighborhoods.csv\")\n",
    "\n",
    "# Step 1: Convert postcode to string and remove '.0' if present\n",
    "df['postcode'] = df['postcode'].astype(str).str.replace(r'\\.0$', '', regex=True)\n",
    "\n",
    "# Step 2: Count how many times each station appears\n",
    "station_counts = df['station'].value_counts()\n",
    "\n",
    "# Step 3: Identify duplicated station names\n",
    "duplicated_stations = station_counts[station_counts > 1].index\n",
    "\n",
    "# Step 4: Filter out:\n",
    "# - rows where the station is duplicated AND the 'line' is null (incomplete data)\n",
    "df = df[~((df['station'].isin(duplicated_stations)) & (df['line'].isna()))]\n",
    "\n",
    "# Step 5: Filter out:\n",
    "# - rows where the 'line' does not match the pattern 'U' followed by digits (e.g. U1–U9)\n",
    "df = df[(df['line'].isna()) | (df['line'].str.match(r'^U\\d+$'))]\n",
    "\n",
    "# Step 6: Manually assign missing line values for specific stations\n",
    "df.loc[df['station'] == 'Elsterwerdaer Platz', 'line'] = 'U5'\n",
    "df.loc[df['station'] == 'Grenzallee', 'line'] = 'U7'\n",
    "df.loc[df['station'] == 'Weinmeisterstraße', 'line'] = 'U8'\n",
    "\n",
    "\n",
    "# Step 7: Save the cleaned dataset\n",
    "df.to_csv(\"ubahn.csv\", index=False )"
   ]
  }
 ],
 "metadata": {
  "kernelspec": {
   "display_name": "base",
   "language": "python",
   "name": "python3"
  },
  "language_info": {
   "codemirror_mode": {
    "name": "ipython",
    "version": 3
   },
   "file_extension": ".py",
   "mimetype": "text/x-python",
   "name": "python",
   "nbconvert_exporter": "python",
   "pygments_lexer": "ipython3",
   "version": "3.11.7"
  }
 },
 "nbformat": 4,
 "nbformat_minor": 5
}
